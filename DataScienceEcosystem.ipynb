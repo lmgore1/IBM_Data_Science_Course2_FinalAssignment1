{
 "cells": [
  {
   "cell_type": "markdown",
   "id": "2542d611",
   "metadata": {},
   "source": [
    "# Data Science Tools and Ecosystem"
   ]
  },
  {
   "cell_type": "markdown",
   "id": "5d46f283",
   "metadata": {},
   "source": [
    "### In this notebook, Data Science Tools and Ecosystem are summarized."
   ]
  },
  {
   "cell_type": "markdown",
   "id": "bd64ad14",
   "metadata": {},
   "source": [
    "**Objectives:**\n",
    "* List the different categories of Data Science tools, i.e., data management, data integration and transformation, data visualization, model building, model deployment, and model monitoring and assessment\n",
    "* List examples of Open Source and Commercial offerings in each category\n",
    "* List popular languages that are available in data science, e.g., Python, R, Scala, Java, Julia, and SQL, and give an overview of what each is used for\n",
    "* List libraries used for scientific computations, visualizations, and machine learning\n",
    "* List R visualization packages and how to create visualizations"
   ]
  },
  {
   "cell_type": "markdown",
   "id": "8a5cb720",
   "metadata": {},
   "source": [
    "##### Some of the popular languages that Data Scientists use are as follows:\n",
    "1. Python\n",
    "2. R\n",
    "3. SQL"
   ]
  },
  {
   "cell_type": "markdown",
   "id": "32b4aab2",
   "metadata": {},
   "source": [
    "##### Some of the commonly used libraries used by Data Scientists include:\n",
    "1. Python Pandas, SciPy, and NumPy for scientific computing\n",
    "2. Python Matplotlib and Seaborn for data visualization\n",
    "3. Python Scikit-learn and Keras for deep learning\n",
    "4. Scala Vegas for statistical data visualizations\n",
    "5. Scala Big DL for deep learning\n",
    "6. R ggplot for data visualtization\n",
    "7. R dplyr for data manipulation\n",
    "8. R stringr for string manipulation\n",
    "9. R caret (short for Classification And REgression Training) for maching learning"
   ]
  },
  {
   "cell_type": "markdown",
   "id": "70df6f18",
   "metadata": {},
   "source": [
    "| Data Science Tools |\n",
    "| :------------------- |\n",
    "| Project Jupyter |\n",
    "| GoogleColab |\n",
    "| VS Code |"
   ]
  },
  {
   "cell_type": "markdown",
   "id": "d497d22b",
   "metadata": {},
   "source": [
    "### Below are a few examples of evaluating arithmetic expressions in Python."
   ]
  },
  {
   "cell_type": "code",
   "execution_count": 8,
   "id": "6a3caad6",
   "metadata": {},
   "outputs": [
    {
     "data": {
      "text/plain": [
       "17"
      ]
     },
     "execution_count": 8,
     "metadata": {},
     "output_type": "execute_result"
    }
   ],
   "source": [
    "# This a simple arithmetic expression to mutiply then add integers\n",
    "(3*4)+5"
   ]
  },
  {
   "cell_type": "code",
   "execution_count": 11,
   "id": "a7d92859",
   "metadata": {},
   "outputs": [
    {
     "data": {
      "text/plain": [
       "3.3333333333333335"
      ]
     },
     "execution_count": 11,
     "metadata": {},
     "output_type": "execute_result"
    }
   ],
   "source": [
    "# This will convert 200 minutes to hours by diving by 60\n",
    "200 / 60"
   ]
  },
  {
   "cell_type": "markdown",
   "id": "5b4f45e3",
   "metadata": {},
   "source": [
    "## Author\n",
    "Linda Gore"
   ]
  },
  {
   "cell_type": "code",
   "execution_count": null,
   "id": "2b6253b1",
   "metadata": {},
   "outputs": [],
   "source": []
  }
 ],
 "metadata": {
  "kernelspec": {
   "display_name": "Python 3 (ipykernel)",
   "language": "python",
   "name": "python3"
  },
  "language_info": {
   "codemirror_mode": {
    "name": "ipython",
    "version": 3
   },
   "file_extension": ".py",
   "mimetype": "text/x-python",
   "name": "python",
   "nbconvert_exporter": "python",
   "pygments_lexer": "ipython3",
   "version": "3.11.5"
  }
 },
 "nbformat": 4,
 "nbformat_minor": 5
}
